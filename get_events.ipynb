{
 "cells": [
  {
   "cell_type": "code",
   "execution_count": 1,
   "id": "753890a6-d43b-4f1a-bfcf-0ebdfa904e14",
   "metadata": {},
   "outputs": [],
   "source": [
    "import requests\n",
    "from bs4 import BeautifulSoup\n",
    "import re\n",
    "import datetime as dt"
   ]
  },
  {
   "cell_type": "code",
   "execution_count": 2,
   "id": "1ef98f58-088d-4142-b6c1-e7e16eb00c7c",
   "metadata": {},
   "outputs": [],
   "source": [
    "base_url = 'https://www.chillfactore.com/plan-your-visit/events'\n",
    "\n",
    "headers = ({'User-Agent':\n",
    "            'Mozilla/5.0 (Windows NT 10.0; Win64; x64) \\\n",
    "            AppleWebKit/537.36 (KHTML, like Gecko) \\\n",
    "            Chrome/90.0.4430.212 Safari/537.36',\n",
    "            'Accept-Language': 'en-US, en;q=0.5'})"
   ]
  },
  {
   "cell_type": "markdown",
   "id": "bd45c0ad-d82d-499e-8606-2067d3a077ae",
   "metadata": {},
   "source": [
    "## raw scraped data"
   ]
  },
  {
   "cell_type": "code",
   "execution_count": 3,
   "id": "7b5ec987-bb95-4634-a3cf-e78e34458dae",
   "metadata": {},
   "outputs": [],
   "source": [
    "response = requests.get(\n",
    "    base_url,\n",
    "    # headers=headers,\n",
    "    timeout=5\n",
    ")\n",
    "\n",
    "soup = BeautifulSoup(response.content, 'html.parser')"
   ]
  },
  {
   "cell_type": "markdown",
   "id": "d635e707-e58b-4c0c-b3b0-0bcb46dbe475",
   "metadata": {},
   "source": [
    "Looking for a match like:\n",
    "\n",
    "```\n",
    "<figure data-day=\"22\" data-month=\"Mar\">\n",
    "<div>\n",
    "<a href=\"/lift-passes/terrain-challenges\"><img 193\"=\"\" 308\"=\"\" alt=\"Moguls\" height=\"&lt;img src=\" loading=\"lazy\" src=\"/perch/resources/cf-website-events9-w330h250.jpg\" width=\"&lt;img src=\"/></a>\n",
    "</div>\n",
    "</figure>\n",
    "```"
   ]
  },
  {
   "cell_type": "code",
   "execution_count": 4,
   "id": "3c568815-f2c2-433d-ad1a-acd1759ed45e",
   "metadata": {},
   "outputs": [
    {
     "data": {
      "text/plain": [
       "\"\\nfigures = soup.select('figure')\\n\\nprint(\\n    figures[16]\\n)\\n\\nfigures[16].find('a', text='Moguls')\\n\""
      ]
     },
     "execution_count": 4,
     "metadata": {},
     "output_type": "execute_result"
    }
   ],
   "source": [
    "\"\"\"\n",
    "figures = soup.select('figure')\n",
    "\n",
    "print(\n",
    "    figures[16]\n",
    ")\n",
    "\n",
    "figures[16].find('a', text='Moguls')\n",
    "\"\"\""
   ]
  },
  {
   "cell_type": "code",
   "execution_count": 5,
   "id": "b2ef8d62-bf12-44ea-83d7-634912251f88",
   "metadata": {},
   "outputs": [
    {
     "data": {
      "text/plain": [
       "[datetime.date(2024, 3, 21),\n",
       " datetime.date(2024, 3, 22),\n",
       " datetime.date(2024, 4, 11),\n",
       " datetime.date(2024, 4, 12),\n",
       " datetime.date(2024, 4, 13),\n",
       " datetime.date(2024, 5, 9),\n",
       " datetime.date(2024, 5, 10),\n",
       " datetime.date(2024, 5, 11),\n",
       " datetime.date(2024, 6, 6),\n",
       " datetime.date(2024, 6, 7),\n",
       " datetime.date(2024, 6, 8),\n",
       " datetime.date(2024, 7, 4),\n",
       " datetime.date(2024, 7, 5),\n",
       " datetime.date(2024, 7, 6),\n",
       " datetime.date(2024, 8, 1),\n",
       " datetime.date(2024, 8, 2),\n",
       " datetime.date(2024, 8, 3),\n",
       " datetime.date(2024, 8, 29),\n",
       " datetime.date(2024, 8, 30),\n",
       " datetime.date(2024, 8, 31)]"
      ]
     },
     "execution_count": 5,
     "metadata": {},
     "output_type": "execute_result"
    }
   ],
   "source": [
    "dates_with_moguls = list()\n",
    "\n",
    "day_match_re = r'(?<=data-day=\")(.*)(?=\" data-month)'\n",
    "month_match_re = r'(?<=data-month=\")(.*)(?=\")'\n",
    "\n",
    "year = '2024'\n",
    "\n",
    "for i in soup.find_all(['figure']):\n",
    "    if 'alt=\"Moguls\"' in str(i):\n",
    "        # strip out date info\n",
    "        _i = str(i)\n",
    "        day = re.search(day_match_re, _i).group(0)\n",
    "        month = re.search(month_match_re, _i).group(0)\n",
    "        \n",
    "        # format\n",
    "        date = '-'.join([year, month, day])\n",
    "        date = dt.datetime.strptime(date, '%Y-%b-%d').date()\n",
    "        \n",
    "        dates_with_moguls.append(date)\n",
    "\n",
    "dates_with_moguls"
   ]
  },
  {
   "cell_type": "markdown",
   "id": "0688d071-d904-4f40-b1c2-ff16ce1aefb0",
   "metadata": {},
   "source": [
    "## google events"
   ]
  },
  {
   "cell_type": "code",
   "execution_count": 7,
   "id": "2a195e22-e49e-473b-a365-2c4e05a67f63",
   "metadata": {},
   "outputs": [],
   "source": [
    "from googleapiclient.discovery import build\n",
    "from google_auth_oauthlib.flow import InstalledAppFlow\n",
    "from google.auth.transport.requests import Request\n",
    "import os.path\n",
    "import pickle"
   ]
  },
  {
   "cell_type": "code",
   "execution_count": 11,
   "id": "f3cff203-6575-49f2-a74b-66c1fd29ce7e",
   "metadata": {},
   "outputs": [
    {
     "data": {
      "text/plain": [
       "'2024-03-21T10:00:00'"
      ]
     },
     "execution_count": 11,
     "metadata": {},
     "output_type": "execute_result"
    }
   ],
   "source": [
    "dt.datetime(\n",
    "    dates_with_moguls[0].year,\n",
    "    dates_with_moguls[0].month,\n",
    "    dates_with_moguls[0].day,\n",
    "    10\n",
    ").isoformat()"
   ]
  },
  {
   "cell_type": "code",
   "execution_count": null,
   "id": "e329de7c-482e-450a-8ff0-7af8df034eb7",
   "metadata": {},
   "outputs": [],
   "source": []
  }
 ],
 "metadata": {
  "kernelspec": {
   "display_name": "Python 3 (ipykernel)",
   "language": "python",
   "name": "python3"
  },
  "language_info": {
   "codemirror_mode": {
    "name": "ipython",
    "version": 3
   },
   "file_extension": ".py",
   "mimetype": "text/x-python",
   "name": "python",
   "nbconvert_exporter": "python",
   "pygments_lexer": "ipython3",
   "version": "3.8.10"
  }
 },
 "nbformat": 4,
 "nbformat_minor": 5
}
